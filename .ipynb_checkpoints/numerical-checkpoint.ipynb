{
 "cells": [
  {
   "cell_type": "markdown",
   "metadata": {},
   "source": [
    "# Tarea 5 \n",
    "### Dylan Navarro Badilla C15476\n",
    "### Kevin Porras Morales C16027"
   ]
  },
  {
   "cell_type": "markdown",
   "metadata": {},
   "source": [
    "# Integrales\n"
   ]
  },
  {
   "cell_type": "markdown",
   "metadata": {},
   "source": [
    "La integral a calcular es: \n",
    "\n",
    "$$\n",
    "I=\\int_{-1}^{1} {\\rm{d}}x[x^4+\\sin^2(x)].\n",
    "$$\n",
    "\n",
    "Para ello primero se define una función que retorna la función a integrar:"
   ]
  },
  {
   "cell_type": "code",
   "execution_count": 2,
   "metadata": {},
   "outputs": [],
   "source": [
    "import math\n",
    "import matplotlib.pyplot as plt\n",
    "import numpy as np\n",
    "from scipy.special import legendre\n",
    "\n",
    "def function(x): \n",
    "    return x**4 + np.sin(x)**2"
   ]
  },
  {
   "cell_type": "markdown",
   "metadata": {},
   "source": [
    "Una vez teniendo la función y la bibliotecas a necesitar, se implementan los métodos para la integración numérica. \n",
    "\n",
    "\n",
    "El primer método es la suma de Riemman, dada por: \n",
    "\n",
    "$$\n",
    "I(a, b) = \\int_{a}^{b} {\\rm{d}}x f(x) \\approx \\sum_{k=1}^{N} f(x_k) h,\n",
    "$$\n",
    "\n",
    "done $h$ corresponde al ancho del rectángulo y $f(x_k)$ es la función a integrar evaluada en el punto $x_k$, con dominio de $x$ discretizado en una grilla unidimensional, tal que $N$ corresponde al número de \"pasos\" que satisface $b = a + (N * h)$.\n",
    "\n",
    "\n",
    "Se implementa de la siguiente manera: "
   ]
  },
  {
   "cell_type": "code",
   "execution_count": 3,
   "metadata": {},
   "outputs": [],
   "source": [
    "#Función que recibe el intervalo de integración \n",
    "#y el número de discretización:\n",
    "def I_Riemman(a, b, N): \n",
    "\n",
    "    #Cálculo de h:\n",
    "    h = (b - a) / N \n",
    "    #Variable donde se irá guardando el valor de la integral:\n",
    "    integral = 0.0 \n",
    "    \n",
    "    #Se realiza un for loop para iterar sobre cada rectángulo e ir sumando el resultado en\n",
    "    #integral:\n",
    "    for i in range(N):  \n",
    "        x_i = a + i * h\n",
    "        integral += function(x_i) * h\n",
    "    return integral"
   ]
  },
  {
   "cell_type": "markdown",
   "metadata": {},
   "source": [
    "EL segundo método es el de trapezoides, para ello se tienen $N$ subregiones de ancho $h$ igual que en el método de Riemman. \n",
    "\n",
    "De esta manera, podemos aproximar la integral por la suma total de los trapezios. Definiendo $x_k = a + kh$, tenemos\n",
    "\\begin{align}\n",
    "I(a, b) \\approx h\\left[\\frac12 f(a) + \\frac12f(b) + \\sum_{k=1}^{N-1} f(a+kh)\\right].\n",
    "\\end{align}\n"
   ]
  },
  {
   "cell_type": "code",
   "execution_count": 4,
   "metadata": {},
   "outputs": [],
   "source": [
    "#Función que recibe el intervalo de integración \n",
    "#y el número de discretización:\n",
    "def I_Trapezoides(a, b, N):\n",
    "    \n",
    "    #Cálculo de h:\n",
    "    h = (b - a) / N\n",
    "    #Variable donde se irá guardando el valor de la sumatoria:\n",
    "    Sum = 0\n",
    "    \n",
    "    #Se realiza un for loop para iterar sobre cada elemento de la función evaluada en el \n",
    "    #punto a+kh y el resultado se guarda en la variable Sum:\n",
    "    for k in range(N):       \n",
    "        Sum += function(a+(k*h))\n",
    "    return h * (1/2 * function(a) + 1/2 * function(b) + Sum) #retorna el valor de la integral"
   ]
  },
  {
   "cell_type": "markdown",
   "metadata": {},
   "source": [
    "El tercer método es método Simpson, donde se utiliza la misma notación que el método anterior. La integral es dada por: \n",
    "\n",
    "\\begin{align}\n",
    "I(a,b) \\approx \\frac{h}3\\left[f(a) + f(b) + 4\\sum_{\\substack{k\\ impar\\\\ 1\\dots{}N-1}}f(a+kh) + 2\\sum_{\\substack{k\\ par \\\\ 2\\dots{}N-2}}f(a+kh)\\right].\n",
    "\\end{align}"
   ]
  },
  {
   "cell_type": "code",
   "execution_count": 5,
   "metadata": {},
   "outputs": [],
   "source": [
    "def I_Simpson(a, b, N):\n",
    "    \n",
    "    #Variable donde se irá guardando el valor de la sumatoria impar:\n",
    "    Sum_impar = 0\n",
    "    #Variable donde se irá guardando el valor de la sumatoria par:\n",
    "    Sum_par = 0\n",
    "    #Cálculo de h:\n",
    "    h = (b - a) / N\n",
    "    \n",
    "    #Se realiza un for loop para iterar sobre términos impares cada elemento de la \n",
    "    #función evaluada en el punto a+kh y el resultado se guarda en la variable Sum_impar:\n",
    "    for k in range(1, N, 2):\n",
    "        Sum_impar += function(a + (k * h))\n",
    "        \n",
    "    #Se realiza un for loop para iterar sobre términos pares cada elemento de la \n",
    "    #función evaluada en el punto a+kh y el resultado se guarda en la variable Sum_par:    \n",
    "    for p in range(2, N-1, 2):\n",
    "        Sum_par += function(a + (p * h))\n",
    "        \n",
    "    return (h/3) * (function(a) + function(b) + 4 * Sum_impar + 2 * Sum_par)"
   ]
  },
  {
   "cell_type": "markdown",
   "metadata": {},
   "source": [
    "El último método es el de cuadratura Gaussiana, donde la integral es dada por: \n",
    "\n",
    "\\begin{align}\n",
    "\\int_a^b {\\rm{d}}x f(x) \\approx \\sum_{k=1}^{N+1} w_k f(x_k).\n",
    "\\end{align}\n",
    "\n",
    "donde:\n",
    "  * $x_k$ corresponden a las $N$ raíces (ceros) de los polinomios de Legendre $P_N(x)$ de orden $N$.\n",
    "  * Los pesos se eligen tal que:\n",
    "      - $\\displaystyle w_k = \\left[\\frac{2}{1-x^2}\\left(\\frac{dP_N}{dx}\\right)^{-2}\\right]_{x={x_k}}$, con $x_k$ que cumple $P_N(x_k)=0$.\n",
    "      \n",
    "Para el cálculo de las raíces se utiliza el método de Newton. El método comienza con una suposición inicial y se itera con base en el algoritmo\n",
    "$$\n",
    "x_{n+1} = x_n - \\frac{f(x_n)}{f'(x_n)}.\n",
    "$$\n",
    "      \n",
    "La implementación es la siguiente: \n",
    "  "
   ]
  },
  {
   "cell_type": "code",
   "execution_count": 8,
   "metadata": {},
   "outputs": [],
   "source": [
    "def gaussxw(N):\n",
    "    \n",
    "    #Aproximación inicial:\n",
    "    a = np.linspace(3, 4 * (N - 1), N) / ((4 * N) + 2)\n",
    "    #Se implementa código vectorial:\n",
    "    x = np.cos(np.pi * a + 1 / (8 * N * N * np.tan(a)))\n",
    "    \n",
    "    #Ahora calculamos las raíces de los polinomios utilizando el método de Newton:\n",
    "    #Erro total: \n",
    "    epsilon = 1e-15\n",
    "    \n",
    "    delta = 1.0\n",
    "    \n",
    "    #FLujo de control: \n",
    "    while delta > epsilon:\n",
    "        p0 = np.ones(N, dtype = float)\n",
    "        #Deep copy\n",
    "        p1 = np.copy(x)\n",
    "        \n",
    "        #Se realiza un for para iterar según el método de Newton: \n",
    "        for k in range(1, N):\n",
    "            p0, p1 = p1, ((2 * k + 1) * x * p1 - k * p0) / (k + 1)\n",
    "        dp = (N + 1) * (p0 - x * p1) / (1 - x * x)\n",
    "        dx = p1 / dp\n",
    "        x -= dx\n",
    "        delta = np.max(np.abs(dx))\n",
    "        \n",
    "    #Ahora calculamos los pesos\n",
    "    w = 2 * (N + 1) * (N + 1)/(N * N * (1 - x * x) * dp * dp)\n",
    "\n",
    "    return x,w #retorna los puntos de muestreo obtenidos con los polinomios de Legendre\n",
    "\n",
    "#Se implementa la siguiente rutina para que el método funcione en cualquier intervalo de a, b:\n",
    "def gaussxwab(a, b, x, w):\n",
    "\n",
    "    return 0.5 * (b - a) * x + 0.5 * (b + a), 0.5 * (b - a) * w\n",
    "\n",
    "#Para ejecutar:\n",
    "#N=2:\n",
    "x2, w2 = gaussxw(2) \n",
    "#N=3:\n",
    "x3, w3 = gaussxw(3) \n",
    "#N=4:\n",
    "x4, w4 = gaussxw(4) \n",
    "#Pesos y puntos de muestreo para N=2:\n",
    "x2r , w2r = gaussxwab(-1, 1, x2, w2)\n",
    "#Pesos y puntos de muestreo para N=3:\n",
    "x3r , w3r = gaussxwab(-1, 1, x3, w3)\n",
    "#Pesos y puntos de muestreo para N=4:\n",
    "x4r , w4r = gaussxwab(-1, 1, x4, w4)"
   ]
  },
  {
   "cell_type": "markdown",
   "metadata": {},
   "source": [
    "Ahora se implementa una función para evaluar el error según el valor analítico $I_{an}$ de la integral dado por 0.945351."
   ]
  },
  {
   "cell_type": "code",
   "execution_count": 9,
   "metadata": {},
   "outputs": [],
   "source": [
    "def error(I_N, I_an = 0.945351):\n",
    "    return abs((I_N - I_an) / I_an)"
   ]
  },
  {
   "cell_type": "markdown",
   "metadata": {},
   "source": [
    "Ahora se implementan diversos for loop que evaluan el error al estimar la integral utilizando un determinado método con forme aumenta $N$. Estos errores se van a guardar en un array para posteriormente poder hacer el gráfico. "
   ]
  },
  {
   "cell_type": "code",
   "execution_count": 22,
   "metadata": {},
   "outputs": [],
   "source": [
    "#Error de Riemman: \n",
    "err_Riemman = np.zeros(100)\n",
    "\n",
    "for N in range(1, 101):  \n",
    "    I_N = I_Riemman(-1, 1, N)\n",
    "    #Deep copy\n",
    "    err = error(I_N)\n",
    "    err_Riemman[N-1] = err  \n",
    "    \n",
    "#print(err_Riemman)    "
   ]
  },
  {
   "cell_type": "code",
   "execution_count": 23,
   "metadata": {},
   "outputs": [],
   "source": [
    "#Error de Trapezoides:\n",
    "err_Trapezoides = np.zeros(100)\n",
    "\n",
    "for N in range(1, 101):  \n",
    "    I_N = I_Trapezoides(-1, 1, N)\n",
    "    #Deep copy\n",
    "    err = error(I_N)\n",
    "    err_Trapezoides[N-1] = err  \n",
    "\n",
    "#print(err_Trapezoides)"
   ]
  },
  {
   "cell_type": "code",
   "execution_count": 24,
   "metadata": {},
   "outputs": [],
   "source": [
    "#Error de Trapezoides:\n",
    "err_Simpson = np.zeros(100)\n",
    "\n",
    "for N in range(1, 101):  \n",
    "    I_N = I_Simpson(-1, 1, N)\n",
    "    #Deep copy\n",
    "    err = error(I_N)\n",
    "    err_Simpson[N-1] = err  \n",
    "\n",
    "#print(err_Simpson)"
   ]
  },
  {
   "cell_type": "code",
   "execution_count": 18,
   "metadata": {},
   "outputs": [
    {
     "data": {
      "image/png": "[encoded data removed]",
      "text/plain": [
       "<Figure size 640x480 with 1 Axes>"
      ]
     },
     "metadata": {},
     "output_type": "display_data"
    }
   ],
   "source": [
    "plt.plot(range(1, 101), err_Riemman, linestyle='-', color='b', label='Riemann')\n",
    "plt.plot(range(1, 101), err_Trapezoides, linestyle='-', color='r', label='Trapezoides')\n",
    "plt.plot(range(1, 101), err_Simpson, linestyle='-', color='y', label='Simpson')\n",
    "plt.yscale('log')\n",
    "plt.xlabel('N')\n",
    "plt.ylabel('Error')\n",
    "plt.legend()\n",
    "plt.show()"
   ]
  },
  {
   "cell_type": "markdown",
   "metadata": {},
   "source": [
    "# FFT\n"
   ]
  },
  {
   "cell_type": "markdown",
   "metadata": {},
   "source": [
    "Suponga que encedemos una luz en el tiempo $t = t_{0} − \\tau /2$ y la volvemos a apagar en el tiempo $t = t_{0} +\\tau /2$, donde $t_{0}$ y $\\tau$ son parametros constantes. La luz emitida en este periodo de tiempo tiene frecuencia $\\upsilon_{0}$, la cual tambien es un parámetro constante.\n",
    "El campo eléctrico emitido tiene la forma:\n",
    "\n",
    "$$\n",
    "E(t) = E_{0}e^{-2i\\pi \\upsilon_{0}t}   \\iff   t \\in C= [t_{0} − \\tau /2 ,  t_{0} +\\tau /2] \\land E(t) = 0 \\iff t \\notin C\n",
    "$$\n",
    "\n",
    "El objetivo será aplicar la transformada de Fourier rápida para encontrar la expresión del campo eléctrico en el espacio de frecuencias. Vamos a evaluar númericamente:\n",
    "\n",
    "$$\n",
    "\\hat E(w) = \\int_{t_{0} − \\tau /2}^{t_{0} +\\tau /2} d\\upsilon E_{0}e^{-2i\\pi (\\upsilon_{0}-\\upsilon)t}\n",
    "$$\n",
    "\n",
    "Utilizaremos los parámetros $\\tau = 1 s$, $t_{0} = 10 s$ y $\\upsilon_{0} = 5 Hz $"
   ]
  },
  {
   "cell_type": "code",
   "execution_count": 98,
   "metadata": {},
   "outputs": [],
   "source": [
    "import numpy as np\n",
    "import matplotlib.pyplot as plt\n",
    "\n",
    "\n",
    "#Declaramos una función para nuestro campo eléctrico:\n",
    "\n",
    "def E(t):\n",
    "    return np.exp(-2j * np.pi * 5 * t)\n",
    "\n",
    "#Notese como establecí la frecuencia inicial como 5 desde el principio.\n",
    "#Ahora queremos implementar la rutina para la FFT. Primero establecemos un dominio para nuestro tiempo.\n",
    "def FFT(f, N, tau):\n",
    "    times = np.linspace(10 - tau/2 , 10 + tau/2, N)\n",
    "\n",
    "    #Transformamos:\n",
    "    Fourier_t = np.fft.fft(f(times), norm= 'forward')\n",
    "\n",
    "    #Utilizamos Numpy para evaluar nuestras frecuencias en el dominio requerido.\n",
    "\n",
    "    w = np.fft.fftfreq(len(Fourier_t), d = times[1] - times[0])\n",
    "\n",
    "    return w, Fourier_t, times\n",
    "\n",
    "#invocamos nuestros resultados con los parámetros deseados.\n",
    "\n",
    "W, Transformada, times = FFT(E, 4096, 1)\n",
    "\n",
    "\n",
    "#A su vez, necesitamos la colección de datos de la función en el espacio de configuración.\n",
    "\n",
    "E_i = E(times)\n",
    "\n",
    "\n"
   ]
  },
  {
   "cell_type": "code",
   "execution_count": null,
   "metadata": {},
   "outputs": [],
   "source": [
    "#Graficamos la parte real del espacio de configuración y el espacio de frecuencias:\n",
    "plt.xlim(9.0,11)\n",
    "plt.title('Espacio de configuración')\n",
    "plt.plot(times, np.real(E_i), color = 'r')\n",
    "plt.show()\n",
    "\n",
    "plt.xlim(-100,50)\n",
    "plt.title('Espacio de frecuencias')\n",
    "plt.plot(W * 2 * np.pi , np.real(Transformada), color = 'b')\n",
    "plt.show()\n",
    "\n",
    "\n",
    "\n"
   ]
  },
  {
   "cell_type": "code",
   "execution_count": null,
   "metadata": {},
   "outputs": [],
   "source": [
    "#Graficamos la parte imaginaria del espacio de configuración y el espacio de frecuencias:\n",
    "plt.xlim(9.0,11)\n",
    "plt.title('Espacio de configuración')\n",
    "plt.plot(times, np.imag(E_i), color = 'r')\n",
    "plt.show()\n",
    "\n",
    "plt.xlim(-100,50)\n",
    "plt.title('Espacio de frecuencias')\n",
    "plt.plot(W * 2 * np.pi , np.imag(Transformada), color = 'b')\n",
    "plt.show()"
   ]
  },
  {
   "cell_type": "markdown",
   "metadata": {},
   "source": [
    "## ¿Porque utilizamos potencias de 2?\n",
    "Cuando $N$ es una potencia de 2, se puede dividir recursivamente en dos partes iguales, es decir, secuencias de longitud $N/2$. Este proceso continúa hasta llegar a secuencias de longitud 1, donde la DFT de una secuencia de un solo punto es simplemente el punto en sí mismo.\n",
    "\n",
    "Esto es gracias a que el algoritmo más usual utilizado para la FFT es el algoritmo llamado Cooley-Tukey o también conocido como \"dividir y conquistar\". El hecho de utilizar potencias de 2 implica que el error crece en orden de $O(N log(N))$ en lugar de $O(N^2), lo cual es una mejora excesivamente buena."
   ]
  },
  {
   "cell_type": "markdown",
   "metadata": {},
   "source": [
    "## ¿Qué pasa si disminuimos o incrementamos el valor de τ?"
   ]
  },
  {
   "cell_type": "code",
   "execution_count": 104,
   "metadata": {},
   "outputs": [],
   "source": [
    "#Podemos graficar las partes reales e imaginarias de nuevo, haciendo un grid e intentar entender de manera cualitativa el comportamiento de la señal.\n",
    "#Invoquemos distintos resultados!\n",
    "W1, Transformada1, times1 = FFT(E, 4096, 1)  # tau = 1 s\n",
    "E1 = E(times1)\n",
    "\n",
    "W2, Transformada2, times2 = FFT(E, 4096, 0.1) # tau = 0.1 s\n",
    "E2 = E(times2)\n",
    "\n",
    "W3, Transformada3, times3 = FFT(E, 4096, 10) # tau = 10 s\n",
    "E3 = E(times3)"
   ]
  },
  {
   "cell_type": "code",
   "execution_count": null,
   "metadata": {},
   "outputs": [],
   "source": [
    "#Graficamos las partes real en el espacio de frecuencias.\n",
    "plt.xlim(-1000,1000)\n",
    "plt.title('Espacio de frecuencias')\n",
    "plt.plot(W1* 2 * np.pi, np.real(Transformada1),color = 'b', label = '1 s')\n",
    "plt.plot(W2* 2 * np.pi, np.real(Transformada2),color = 'k', label = '0.1 s')    #Espacio de frecuencias\n",
    "plt.plot(W3* 2 * np.pi, np.real(Transformada3),color = 'c', label = '10 s')\n",
    "\n",
    "plt.legend()\n",
    "plt.grid()\n",
    "plt.show()\n"
   ]
  },
  {
   "cell_type": "code",
   "execution_count": null,
   "metadata": {},
   "outputs": [],
   "source": [
    "#Graficamos las partes imaginaria en el espacio de frecuencias.\n",
    "plt.xlim(-60,3)\n",
    "plt.title('Espacio de frecuencias')\n",
    "plt.plot(W1* 2 * np.pi, np.imag(Transformada1),color = 'b', label = '1 s')\n",
    "plt.plot(W2* 2 * np.pi, np.imag(Transformada2),color = 'k', label = '0.1 s')    #Espacio de frecuencias\n",
    "plt.plot(W3* 2 * np.pi, np.imag(Transformada3),color = 'c', label = '10 s')\n",
    "\n",
    "plt.legend()\n",
    "plt.grid()\n",
    "plt.show()\n",
    "\n"
   ]
  },
  {
   "cell_type": "markdown",
   "metadata": {},
   "source": [
    "Es importante notar que, al no cambiar la frecuencia característica del problema $\\upsilon_{0}$ el delta de dirac en la transformada se \"activa\" en el mismo punto, pero a medida que hacemos $\\tau$ más y más grande ese impulso se hace cada vez más rápido, por lo que intuimos que la onda característica del campo eléctrico va a tener una longitud de onda mucho más pequeña y por ende su frecuencia va a ser mayor. A su vez, es interesante ver como para un $\\tau$ de orden pequeño la parte imaginaria es basicamente nula."
   ]
  }
 ],
 "metadata": {
  "kernelspec": {
   "display_name": "Python 3 (ipykernel)",
   "language": "python",
   "name": "python3"
  },
  "language_info": {
   "codemirror_mode": {
    "name": "ipython",
    "version": 3
   },
   "file_extension": ".py",
   "mimetype": "text/x-python",
   "name": "python",
   "nbconvert_exporter": "python",
   "pygments_lexer": "ipython3",
   "version": "3.12.3"
  }
 },
 "nbformat": 4,
 "nbformat_minor": 2
}
