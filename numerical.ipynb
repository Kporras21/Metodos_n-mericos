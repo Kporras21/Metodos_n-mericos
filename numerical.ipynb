{
 "cells": [
  {
   "cell_type": "markdown",
   "metadata": {},
   "source": [
    "# Integrales\n"
   ]
  },
  {
   "cell_type": "markdown",
   "metadata": {},
   "source": [
    "# DYLAN PONE TU PARTE ACÁ O TE COJO !"
   ]
  },
  {
   "cell_type": "markdown",
   "metadata": {},
   "source": [
    "# FFT\n"
   ]
  },
  {
   "cell_type": "markdown",
   "metadata": {},
   "source": [
    "Suponga que encedemos una luz en el tiempo $t = t_{0} − \\tau /2$ y la volvemos a apagar en el tiempo $t = t_{0} +\\tau /2$, donde $t_{0}$ y $\\tau$ son parametros constantes. La luz emitida en este periodo de tiempo tiene frecuencia $\\upsilon_{0}$, la cual tambien es un parámetro constante.\n",
    "El campo eléctrico emitido tiene la forma:\n",
    "\n",
    "$$\n",
    "E(t) = E_{0}e^{-2i\\pi \\upsilon_{0}t}   \\iff   t \\in C= [t_{0} − \\tau /2 ,  t_{0} +\\tau /2] \\land E(t) = 0 \\iff t \\notin C\n",
    "$$\n",
    "\n",
    "El objetivo será aplicar la transformada de Fourier rápida para encontrar la expresión del campo eléctrico en el espacio de frecuencias. Vamos a evaluar númericamente:\n",
    "\n",
    "$$\n",
    "\n",
    "\\hat E(w) = \\int_{t_{0} − \\tau /2}^{t_{0} +\\tau /2} d\\upsilon E_{0}e^{-2i\\pi (\\upsilon_{0}-\\upsilon)t}\n",
    "\n",
    "\n",
    "$$\n",
    "\n",
    "Utilizaremos los parámetros $\\tau = 1 s$, $t_{0} = 10 s$ y $\\upsilon_{0} = 5 Hz $"
   ]
  },
  {
   "cell_type": "code",
   "execution_count": 98,
   "metadata": {},
   "outputs": [],
   "source": [
    "import numpy as np\n",
    "import matplotlib.pyplot as plt\n",
    "\n",
    "\n",
    "#Declaramos una función para nuestro campo eléctrico:\n",
    "\n",
    "def E(t):\n",
    "    return np.exp(-2j * np.pi * 5 * t)\n",
    "\n",
    "#Notese como establecí la frecuencia inicial como 5 desde el principio.\n",
    "#Ahora queremos implementar la rutina para la FFT. Primero establecemos un dominio para nuestro tiempo.\n",
    "def FFT(f, N, tau):\n",
    "    times = np.linspace(10 - tau/2 , 10 + tau/2, N)\n",
    "\n",
    "    #Transformamos:\n",
    "    Fourier_t = np.fft.fft(f(times), norm= 'forward')\n",
    "\n",
    "    #Utilizamos Numpy para evaluar nuestras frecuencias en el dominio requerido.\n",
    "\n",
    "    w = np.fft.fftfreq(len(Fourier_t), d = times[1] - times[0])\n",
    "\n",
    "    return w, Fourier_t, times\n",
    "\n",
    "#invocamos nuestros resultados con los parámetros deseados.\n",
    "\n",
    "W, Transformada, times = FFT(E, 4096, 1)\n",
    "\n",
    "\n",
    "#A su vez, necesitamos la colección de datos de la función en el espacio de configuración.\n",
    "\n",
    "E_i = E(times)\n",
    "\n",
    "\n"
   ]
  },
  {
   "cell_type": "code",
   "execution_count": null,
   "metadata": {},
   "outputs": [],
   "source": [
    "#Graficamos la parte real del espacio de configuración y el espacio de frecuencias:\n",
    "plt.xlim(9.0,11)\n",
    "plt.title('Espacio de configuración')\n",
    "plt.plot(times, np.real(E_i), color = 'r')\n",
    "plt.show()\n",
    "\n",
    "plt.xlim(-100,50)\n",
    "plt.title('Espacio de frecuencias')\n",
    "plt.plot(W * 2 * np.pi , np.real(Transformada), color = 'b')\n",
    "plt.show()\n",
    "\n",
    "\n",
    "\n"
   ]
  },
  {
   "cell_type": "code",
   "execution_count": null,
   "metadata": {},
   "outputs": [],
   "source": [
    "#Graficamos la parte imaginaria del espacio de configuración y el espacio de frecuencias:\n",
    "plt.xlim(9.0,11)\n",
    "plt.title('Espacio de configuración')\n",
    "plt.plot(times, np.imag(E_i), color = 'r')\n",
    "plt.show()\n",
    "\n",
    "plt.xlim(-100,50)\n",
    "plt.title('Espacio de frecuencias')\n",
    "plt.plot(W * 2 * np.pi , np.imag(Transformada), color = 'b')\n",
    "plt.show()"
   ]
  },
  {
   "cell_type": "markdown",
   "metadata": {},
   "source": [
    "## ¿Porque utilizamos potencias de 2?\n",
    "Cuando $N$ es una potencia de 2, se puede dividir recursivamente en dos partes iguales, es decir, secuencias de longitud $N/2$. Este proceso continúa hasta llegar a secuencias de longitud 1, donde la DFT de una secuencia de un solo punto es simplemente el punto en sí mismo.\n",
    "\n",
    "Esto es gracias a que el algoritmo más usual utilizado para la FFT es el algoritmo llamado Cooley-Tukey o también conocido como \"dividir y conquistar\". El hecho de utilizar potencias de 2 el error crece en orden de $O(N log(N))$ en lugar de $O(N^2), lo cual es una mejora excesivamente buena."
   ]
  },
  {
   "cell_type": "markdown",
   "metadata": {},
   "source": [
    "## ¿Qué pasa si disminuimos o incrementamos el valor de τ?"
   ]
  },
  {
   "cell_type": "code",
   "execution_count": 104,
   "metadata": {},
   "outputs": [],
   "source": [
    "#Podemos graficar las partes reales e imaginarias de nuevo, haciendo un grid e intentar de manera cualitativa el comportamiento de la señal.\n",
    "#Invoquemos distintos resultados!\n",
    "W1, Transformada1, times1 = FFT(E, 4096, 1)  # tau = 1 s\n",
    "E1 = E(times1)\n",
    "\n",
    "W2, Transformada2, times2 = FFT(E, 4096, 0.1) # tau = 0.1 s\n",
    "E2 = E(times2)\n",
    "\n",
    "W3, Transformada3, times3 = FFT(E, 4096, 10) # tau = 10 s\n",
    "E3 = E(times3)"
   ]
  },
  {
   "cell_type": "code",
   "execution_count": null,
   "metadata": {},
   "outputs": [],
   "source": [
    "#Graficamos las partes real en el espacio de frecuencias.\n",
    "plt.xlim(-1000,1000)\n",
    "plt.title('Espacio de configuración')\n",
    "plt.plot(W1* 2 * np.pi, np.real(Transformada1),color = 'b', label = '1 s')\n",
    "plt.plot(W2* 2 * np.pi, np.real(Transformada2),color = 'k', label = '0.1 s')    #Espacio de frecuencias\n",
    "plt.plot(W3* 2 * np.pi, np.real(Transformada3),color = 'c', label = '10 s')\n",
    "\n",
    "plt.legend()\n",
    "plt.grid()\n",
    "plt.show()\n"
   ]
  },
  {
   "cell_type": "code",
   "execution_count": null,
   "metadata": {},
   "outputs": [],
   "source": [
    "#Graficamos las partes imaginaria en el espacio de frecuencias.\n",
    "plt.xlim(-60,3)\n",
    "plt.title('Espacio de configuración')\n",
    "plt.plot(W1* 2 * np.pi, np.imag(Transformada1),color = 'b', label = '1 s')\n",
    "plt.plot(W2* 2 * np.pi, np.imag(Transformada2),color = 'k', label = '0.1 s')    #Espacio de frecuencias\n",
    "plt.plot(W3* 2 * np.pi, np.imag(Transformada3),color = 'c', label = '10 s')\n",
    "\n",
    "plt.legend()\n",
    "plt.grid()\n",
    "plt.show()\n",
    "\n"
   ]
  },
  {
   "cell_type": "markdown",
   "metadata": {},
   "source": [
    "Es importante notar que, al no cambiar la frecuencia característica del problema $\\upsilon_{0}$ el delta de dirac en la transformada se \"activa\" en el mismo punto, pero a medida que hacemos $\\tau$ más y más grande ese impulso se hace cada vez más rápido, por lo que intuimos que la onda característica del campo eléctrico va a tener una longitud de onda mucho más pequeña y por ende su frecuencia va a ser mayor. A su vez, es interesante ver como para un $\\tau$ de orden pequeño la parte imaginaria es basicamente nula."
   ]
  }
 ],
 "metadata": {
  "kernelspec": {
   "display_name": "Python 3",
   "language": "python",
   "name": "python3"
  },
  "language_info": {
   "codemirror_mode": {
    "name": "ipython",
    "version": 3
   },
   "file_extension": ".py",
   "mimetype": "text/x-python",
   "name": "python",
   "nbconvert_exporter": "python",
   "pygments_lexer": "ipython3",
   "version": "3.11.9"
  }
 },
 "nbformat": 4,
 "nbformat_minor": 2
}
